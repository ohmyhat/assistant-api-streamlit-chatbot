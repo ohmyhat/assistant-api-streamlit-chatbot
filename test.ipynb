{
 "cells": [
  {
   "cell_type": "code",
   "execution_count": null,
   "metadata": {},
   "outputs": [],
   "source": []
  },
  {
   "cell_type": "code",
   "execution_count": null,
   "metadata": {},
   "outputs": [],
   "source": [
    "from app import main\n",
    "\n",
    "main()"
   ]
  },
  {
   "cell_type": "code",
   "execution_count": 1,
   "metadata": {},
   "outputs": [
    {
     "name": "stderr",
     "output_type": "stream",
     "text": [
      "2024-02-07 15:45:14.240 \n",
      "  \u001b[33m\u001b[1mWarning:\u001b[0m to view this Streamlit app on a browser, run it with the following\n",
      "  command:\n",
      "\n",
      "    streamlit run app.py [ARGUMENTS]\n",
      "Traceback (most recent call last):\n",
      "  File \"c:\\Users\\jburc\\StreamlitAssist\\assistant-api-streamlit-chatbot\\app.py\", line 125, in <module>\n",
      "    main()\n",
      "  File \"c:\\Users\\jburc\\StreamlitAssist\\assistant-api-streamlit-chatbot\\app.py\", line 12, in main\n",
      "    api_key = st.secrets[\"OPENAI_API_KEY\"]\n",
      "              ~~~~~~~~~~^^^^^^^^^^^^^^^^^^\n",
      "  File \"c:\\Users\\jburc\\StreamlitAssist\\assistant-api-streamlit-chatbot\\.conda\\Lib\\site-packages\\streamlit\\runtime\\secrets.py\", line 305, in __getitem__\n",
      "    value = self._parse(True)[key]\n",
      "            ^^^^^^^^^^^^^^^^^\n",
      "  File \"c:\\Users\\jburc\\StreamlitAssist\\assistant-api-streamlit-chatbot\\.conda\\Lib\\site-packages\\streamlit\\runtime\\secrets.py\", line 214, in _parse\n",
      "    raise FileNotFoundError(err_msg)\n",
      "FileNotFoundError: No secrets files found. Valid paths for a secrets.toml file are: C:\\Users\\jburc\\.streamlit\\secrets.toml, c:\\Users\\jburc\\StreamlitAssist\\assistant-api-streamlit-chatbot\\.streamlit\\secrets.toml\n"
     ]
    }
   ],
   "source": [
    "!python app.py"
   ]
  }
 ],
 "metadata": {
  "kernelspec": {
   "display_name": "Python 3",
   "language": "python",
   "name": "python3"
  },
  "language_info": {
   "codemirror_mode": {
    "name": "ipython",
    "version": 3
   },
   "file_extension": ".py",
   "mimetype": "text/x-python",
   "name": "python",
   "nbconvert_exporter": "python",
   "pygments_lexer": "ipython3",
   "version": "3.12.1"
  }
 },
 "nbformat": 4,
 "nbformat_minor": 2
}
